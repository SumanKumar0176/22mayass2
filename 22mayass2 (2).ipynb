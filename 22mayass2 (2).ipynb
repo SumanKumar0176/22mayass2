{
 "cells": [
  {
   "cell_type": "code",
   "execution_count": null,
   "id": "24d320a0-f12e-4173-b424-27e11afd129c",
   "metadata": {},
   "outputs": [],
   "source": [
    "1.What are the two values of the Boolean data type? How do you write them?\n",
    "Ans:\n",
    "The Boolean data type represents a logical value that can have one of two possible states:\n",
    " True or False. In Python, these values are written exactly as shown, with the first letter capitalized.\n",
    "\n",
    "The two values of the Boolean data type in Python are:\n",
    "\n",
    "True: Represents a true or \"yes\" condition.\n",
    "False: Represents a false or \"no\" condition.\n",
    "Boolean values are commonly used in programming for decision-making, logical operations, and conditional statements."
   ]
  },
  {
   "cell_type": "code",
   "execution_count": null,
   "id": "6b4ea239-f3df-409c-b8db-673343dca70b",
   "metadata": {},
   "outputs": [],
   "source": [
    "2. What are the three different types of Boolean operators?\n",
    "Ans:\n",
    "The three different types of Boolean operators are:\n",
    "\n",
    "i.Logical AND (and): The logical AND operator returns True if both operands are True, and False otherwise. \n",
    "It evaluates to True only when all conditions are true.\n",
    "\n",
    "ii.Logical OR (or): The logical OR operator returns True if at least one of the operands is True, and False otherwise. \n",
    "It evaluates to True if any of the conditions are true.\n",
    "\n",
    "iii.Logical NOT (not): The logical NOT operator negates the value of its operand. If the operand is True, it returns False,\n",
    " and if the operand is False, it returns True. It basically flips the boolean value.\n"
   ]
  },
  {
   "cell_type": "code",
   "execution_count": null,
   "id": "7409351b-2c4c-4b00-965a-3e9b295b5224",
   "metadata": {},
   "outputs": [],
   "source": [
    "\n",
    "\n",
    "3. Make a list of each Boolean operator's truth tables (i.e. every possible combination of Boolean\n",
    "values for the operator and what it evaluate ).\n",
    "Ans:\n",
    "Here are the truth tables for each Boolean operator:\n",
    "\n",
    "Logical AND (and):\n",
    "Operand 1\tOperand 2\tResult\n",
    "True\tTrue\tTrue\n",
    "True\tFalse\tFalse\n",
    "False\tTrue\tFalse\n",
    "False\tFalse\tFalse\n",
    "Logical OR (or):\n",
    "Operand 1\tOperand 2\tResult\n",
    "True\tTrue\tTrue\n",
    "True\tFalse\tTrue\n",
    "False\tTrue\tTrue\n",
    "False\tFalse\tFalse\n",
    "Logical NOT (not):\n",
    "Operand\tResult\n",
    "True\tFalse\n",
    "False\tTrue\n"
   ]
  },
  {
   "cell_type": "code",
   "execution_count": null,
   "id": "218bc982-13f2-4da6-a299-b9241bcb445f",
   "metadata": {},
   "outputs": [],
   "source": [
    "\n",
    "4. What are the values of the following expressions?\n",
    "i.(5 > 4) and (3 == 5)\n",
    "ii.not (5  >4)\n",
    "iii.(5 > 4) or (3 == 5)\n",
    "iv.not ((5 > 4) or (3 == 5))\n",
    "v.(True and True) and (True == False)\n",
    "vi.(not False) or (not True)\n",
    "\n",
    "Ans:\n",
    "i.False\n",
    "ii.False\n",
    "iii.True\n",
    "iv.False\n",
    "v.False\n",
    "vi.True\n"
   ]
  },
  {
   "cell_type": "code",
   "execution_count": null,
   "id": "be3dd593-9a6c-4f29-8d4f-e45d859a82e8",
   "metadata": {},
   "outputs": [],
   "source": [
    "\n",
    "5. What are the six comparison operators?\n",
    "Ans:\n",
    "The six comparison operators in Python are as follows:\n",
    "Equal to (==)\n",
    "Not equal to (!=)\n",
    "Greater than (>)\n",
    "Less than (<)\n",
    "Greater than or equal to (>=)\n",
    "Less than or equal to (<=)\n",
    "\n"
   ]
  },
  {
   "cell_type": "code",
   "execution_count": null,
   "id": "b6218752-8027-4579-944b-8fba9eb026b2",
   "metadata": {},
   "outputs": [],
   "source": [
    "\n",
    "6. How do you tell the difference between the equal to and assignment operators?Describe a\n",
    "condition and when you would use one.\n",
    "\n",
    "Ans:\n",
    "i.Equal to (==) operator:\n",
    "The equal to operator (==) is a comparison operator that checks whether two values are equal. \n",
    "It returns True if the values are equal and False otherwise. It is used in conditions or\n",
    " expressions where you want to compare values or check for equality.\n",
    "\n",
    "ii.Assignment (=) operator:\n",
    "The assignment operator (=) is used to assign a value to a variable. It takes the value on\n",
    " the right side and assigns it to the variable on the left side. It does not compare values\n",
    " for equality but rather assigns a value to a variable.\n"
   ]
  },
  {
   "cell_type": "code",
   "execution_count": null,
   "id": "da138a45-5007-480c-b90e-ca67f702a9ae",
   "metadata": {},
   "outputs": [],
   "source": [
    "7. Identify the three blocks in this code:\n",
    "spam = 0\n",
    "if spam == 10:\n",
    "print('eggs')\n",
    "if spam > 5:\n",
    "print('bacon')\n",
    "else:\n",
    "print('hum')\n",
    "print('spam')\n",
    "print('spam')\n",
    "\n",
    "Ans:\n",
    "hum\n",
    "spam\n",
    "spam\n",
    "\n"
   ]
  },
  {
   "cell_type": "code",
   "execution_count": null,
   "id": "711385c4-1031-43ee-a1c3-4d5a420bdbf6",
   "metadata": {},
   "outputs": [],
   "source": [
    "\n",
    "\n",
    "\n",
    "8. Write code that prints Hello if 1 is stored in spam, prints Howdy if 2 is stored in spam, and prints\n",
    "Greetings! if anything else is stored in spam.\n",
    "Ans:\n",
    "spam =  # The value you want to store in spam\n",
    "\n",
    "if spam == 1:\n",
    "    print(\"Hello\")\n",
    "elif spam == 2:\n",
    "    print(\"Howdy\")\n",
    "else:\n",
    "    print(\"Greetings!\")\n",
    "\n",
    "\n"
   ]
  },
  {
   "cell_type": "code",
   "execution_count": null,
   "id": "311b3101-d2ef-4536-8edb-ead7d69fba5e",
   "metadata": {},
   "outputs": [],
   "source": [
    "9.If your programme is stuck in an endless loop, what keys you’ll press?\n",
    "Ans:\n",
    "i.Ctrl + C (Windows and Linux)\n",
    "ii.Command + . (Mac)\n",
    "\n"
   ]
  },
  {
   "cell_type": "code",
   "execution_count": null,
   "id": "44e7e569-5a5b-42ed-8e16-dd284ee748e3",
   "metadata": {},
   "outputs": [],
   "source": [
    "\n",
    "\n",
    "\n",
    "10. How can you tell the difference between break and continue?\n",
    "Ans:\n",
    "i.break statement:\n",
    "\n",
    "When encountered inside a loop, the break statement immediately terminates the loop and moves the program execution to the next statement after the loop.\n",
    "It is used to prematurely exit a loop, regardless of any remaining iterations.\n",
    "The code after the break statement, within the same loop, is not executed.\n",
    "It provides a way to stop the loop early if a certain condition is met.\n",
    "\n",
    "ii.continue statement:\n",
    "\n",
    "When encountered inside a loop, the continue statement immediately skips the remaining statements within the loop for the current iteration and moves to the next iteration.\n",
    "It is used to bypass the rest of the code within the loop for a particular iteration, but the loop itself continues to execute with the next iteration.\n",
    "The loop does not terminate; it simply proceeds to the next iteration.\n"
   ]
  },
  {
   "cell_type": "code",
   "execution_count": null,
   "id": "b24ed058-079b-413e-8870-8699b4bfdf91",
   "metadata": {},
   "outputs": [],
   "source": [
    "11. In a for loop, what is the difference between range(10), range(0, 10), and range(0, 10, 1)?\n",
    "Ans:\n",
    "i.range(10): This form of range() starts from 0 by default and generates a sequence of numbers up to, but not including,\n",
    " the specified stop value (10 in this case). It increments by 1 by default.\n",
    "ii.range(0, 10): This form of range() explicitly specifies both the start and stop values. It generates a sequence of numbers\n",
    " starting from the specified start value (0 in this case) and ending just before the specified stop value (10 in this case). \n",
    "It increments by 1 by default.\n",
    "iii.range(0, 10, 1): This form of range() specifies the start, stop, and step values explicitly. It generates a sequence of numbers starting \n",
    "from the specified start value (0 in this case) and ending just before the specified stop value (10 in this case), incrementing by \n",
    "the specified step value (1 in this case).\n"
   ]
  },
  {
   "cell_type": "code",
   "execution_count": null,
   "id": "b137698e-4bd5-461f-bdcb-908a848fe745",
   "metadata": {},
   "outputs": [],
   "source": [
    "\n",
    "\n",
    "12. Write a short program that prints the numbers 1 to 10 using a for loop. Then write an equivalent\n",
    "program that prints the numbers 1 to 10 using a while loop.\n",
    "Ans:\n",
    "# Using a for loop\n",
    "for i in range(1, 11):\n",
    "    print(i)\n",
    "# Using a while loop\n",
    "i = 1\n",
    "while i <= 10:\n",
    "    print(i)\n",
    "    i += 1\n",
    "\n"
   ]
  },
  {
   "cell_type": "code",
   "execution_count": null,
   "id": "b4443d84-9249-47ed-a60d-1a58e20e1963",
   "metadata": {},
   "outputs": [],
   "source": [
    "\n",
    "13. If you had a function named bacon() inside a module named spam, how would you call it after\n",
    "importing spam?\n",
    "Ans:\n",
    "import spam\n",
    "\n",
    "spam.bacon()\n"
   ]
  },
  {
   "cell_type": "code",
   "execution_count": null,
   "id": "929c481a-9f31-4c74-8934-5a2f1b0cb54e",
   "metadata": {},
   "outputs": [],
   "source": []
  }
 ],
 "metadata": {
  "kernelspec": {
   "display_name": "Python 3 (ipykernel)",
   "language": "python",
   "name": "python3"
  },
  "language_info": {
   "codemirror_mode": {
    "name": "ipython",
    "version": 3
   },
   "file_extension": ".py",
   "mimetype": "text/x-python",
   "name": "python",
   "nbconvert_exporter": "python",
   "pygments_lexer": "ipython3",
   "version": "3.10.6"
  }
 },
 "nbformat": 4,
 "nbformat_minor": 5
}
